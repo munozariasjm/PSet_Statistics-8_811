{
 "cells": [
  {
   "cell_type": "markdown",
   "id": "47cbfd6e-629d-4e18-bd6c-c5867b644305",
   "metadata": {},
   "source": [
    "# 8.811: Stats Assignment\n",
    "\n",
    "Below is some code you can use as a starting point for the script you will turn in.\n",
    "\n",
    "We provide the \"8.811\" kernel on SubMIT's Jupyterhub (https://submit.mit.edu/jupyter/), which has a python installation with all the necessary packages to run this script and complete the rest assginment, if you don't want to install them by yourself. To access it, click the drop-down menu in the top right, which will prompt a \"Select Kernel\" screen, and select \"8.811\". SubMIT also has a lot of computational resources available for free to all MIT physics students.\n",
    "\n",
    "We suggest using the `zfit` module to perform the fitting and toys generation. You don't have to use it, nor do you have to use a jupyter notebook, nor do you have to use Python. Use whatever you need to get this to work for you."
   ]
  },
  {
   "cell_type": "code",
   "execution_count": 1,
   "id": "47b8ad2d-5f4f-4b80-ba9d-3532a95858c2",
   "metadata": {},
   "outputs": [],
   "source": [
    "import os\n",
    "os.environ['ZFIT_DISABLE_TF_WARNINGS'] = '1'\n",
    "\n",
    "import numpy as np\n",
    "import matplotlib.pyplot as plt\n",
    "import zfit\n",
    "from zfit import z\n",
    "import hist\n",
    "from hist import Hist"
   ]
  },
  {
   "cell_type": "markdown",
   "id": "cb948d93-683c-4bb3-8a95-9d606d532f10",
   "metadata": {},
   "source": [
    "Grab the input data using `wget`"
   ]
  },
  {
   "cell_type": "markdown",
   "id": "70e477bf-80ae-4ab0-88a1-9ee792b312be",
   "metadata": {},
   "source": [
    "Open the input data, and display some events. The values are the di-photon mass for different events."
   ]
  },
  {
   "cell_type": "code",
   "execution_count": 2,
   "id": "f8490c6d-6265-4cc3-b765-382de2995d61",
   "metadata": {},
   "outputs": [
    {
     "name": "stdout",
     "output_type": "stream",
     "text": [
      "Data shape: (300, 1)\n",
      "Example data: [[123.12572729]\n",
      " [146.21653113]\n",
      " [126.55531839]\n",
      " [124.05737808]\n",
      " [126.50817846]\n",
      " [137.59908092]\n",
      " [105.94534142]\n",
      " [132.45773271]\n",
      " [149.77449329]\n",
      " [129.10474416]]\n"
     ]
    }
   ],
   "source": [
    "data = np.load(\"../Data/toy_dataset.csv.npy\")\n",
    "print(\"Data shape:\", data.shape)\n",
    "print(\"Example data:\", data[:10])"
   ]
  },
  {
   "cell_type": "code",
   "execution_count": null,
   "id": "598dbbc4",
   "metadata": {},
   "outputs": [],
   "source": []
  },
  {
   "cell_type": "markdown",
   "id": "d23406a6-5f0f-40a2-a152-1c7d763676a1",
   "metadata": {},
   "source": [
    "Plot a histogram of the input data"
   ]
  },
  {
   "cell_type": "code",
   "execution_count": 3,
   "id": "80a37946-6907-4a76-a4ee-fb6b7465b4f1",
   "metadata": {},
   "outputs": [
    {
     "data": {
      "image/png": "[encoded data removed]",
      "text/plain": [
       "<Figure size 500x500 with 1 Axes>"
      ]
     },
     "metadata": {},
     "output_type": "display_data"
    }
   ],
   "source": [
    "# range of the data\n",
    "m_range = (np.min(data)-1, np.max(data)+1)\n",
    "\n",
    "fig = plt.figure(figsize=(5,5))\n",
    "ax = fig.subplots()\n",
    "\n",
    "# define a histogram\n",
    "hist = Hist.new.Reg(30, m_range[0], m_range[1]).Weight()\n",
    "hist.fill(data[:,0])\n",
    "\n",
    "# and plot it\n",
    "ax.errorbar(hist.axes[0].centers, hist.values(), np.sqrt(hist.variances()), color='black', capsize=2, linestyle='', marker='o', markersize=3, label='Data')\n",
    "ax.set_xlabel(r\"$\\mathrm{m}_{\\gamma\\gamma}$ [GeV]\")\n",
    "ax.set_ylabel('Events')\n",
    "ax.legend(fontsize='small')\n",
    "plt.show()"
   ]
  },
  {
   "cell_type": "markdown",
   "id": "6d17acac-4fb3-4443-b751-8ac6b8c99135",
   "metadata": {},
   "source": [
    "Here we provide some sample code to define fitting models using the `zfit` package. (See docs: https://zfit.readthedocs.io/en/stable/)\n",
    "\n",
    "We define two the models that you can use to fit:\n",
    "1. `exp_model`: exponential with parameter $\\lambda$\n",
    "2. `combined_model` = Exponential + Gaussian: exponential with parameter $\\lambda$, and Gaussian with parameters $\\mu$, $\\sigma$. The $\\sigma$ of the Gaussian is fixed (`floating=False`): since the Higgs has ~no width, it's only related to detector resoultion. The sum of the Exp. and Gauss. has an unknown (to be fit) `frac_exp` parameters, which is the fraction of the exponential background over the total of background + signal. This is related to the \"signal strength\" of the process we are searching for."
   ]
  },
  {
   "cell_type": "code",
   "execution_count": 4,
   "id": "91a70231-5e85-4f7b-a97f-8d2cfc9eea90",
   "metadata": {},
   "outputs": [],
   "source": [
    "lambda_param = 1 # parameter of the exponential DUMMY VALUE\n",
    "exp_lambda = zfit.Parameter(\"lambda\", lambda_param)\n",
    "exp_model = zfit.pdf.Exponential(lam=exp_lambda, obs=zfit.Space(\"x\", limits=m_range))\n",
    "\n",
    "m_higgs = 130 # mean of the gaussian at the Higgs mass DUMMY VALUE\n",
    "detector_resolution = 2 # width of the gaussian peak FIXED\n",
    "gauss_mean = zfit.Parameter(\"mean\", m_higgs, lower=m_range[0], upper=m_range[1])\n",
    "gauss_sigma = zfit.Parameter(\"sigma\", detector_resolution, floating=False) # we fix the width of the Gaussian peak! i.e. this will not be fitted\n",
    "gauss_model = zfit.pdf.Gauss(mu=gauss_mean, sigma=gauss_sigma, obs=zfit.Space(\"x\", limits=m_range))\n",
    "\n",
    "frac_signal = 0.5 # fraction of signal over background DUMMY VALUE\n",
    "frac_exp = zfit.Parameter(\"frac_exp\", 1-frac_signal, 1-2*frac_signal, 1)\n",
    "combined_model = zfit.pdf.SumPDF([exp_model, gauss_model], fracs=frac_exp, obs=zfit.Space(\"x\", limits=m_range))"
   ]
  },
  {
   "cell_type": "code",
   "execution_count": null,
   "id": "5c980890",
   "metadata": {},
   "outputs": [],
   "source": []
  }
 ],
 "metadata": {
  "kernelspec": {
   "display_name": "envSpectreML",
   "language": "python",
   "name": "python3"
  },
  "language_info": {
   "codemirror_mode": {
    "name": "ipython",
    "version": 3
   },
   "file_extension": ".py",
   "mimetype": "text/x-python",
   "name": "python",
   "nbconvert_exporter": "python",
   "pygments_lexer": "ipython3",
   "version": "3.11.7"
  }
 },
 "nbformat": 4,
 "nbformat_minor": 5
}
