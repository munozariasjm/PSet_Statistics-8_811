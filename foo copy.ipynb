{
 "cells": [
  {
   "cell_type": "code",
   "execution_count": 1,
   "metadata": {},
   "outputs": [
    {
     "name": "stderr",
     "output_type": "stream",
     "text": [
      "/Users/jose/anaconda3/envs/envSpectreML/lib/python3.11/site-packages/zfit/__init__.py:60: UserWarning: TensorFlow warnings are by default suppressed by zfit. In order to show them, set the environment variable ZFIT_DISABLE_TF_WARNINGS=0. In order to suppress the TensorFlow warnings AND this warning, set ZFIT_DISABLE_TF_WARNINGS=1.\n",
      "  warnings.warn(\n",
      "/var/folders/zg/s97g7gnj27z83xl9nrhntgxm0000gn/T/ipykernel_74228/3175299691.py:8: TqdmExperimentalWarning: Using `tqdm.autonotebook.tqdm` in notebook mode. Use `tqdm.tqdm` instead to force console mode (e.g. in jupyter console)\n",
      "  from tqdm.autonotebook import tqdm\n"
     ]
    }
   ],
   "source": [
    "import pandas as pd\n",
    "import numpy as np\n",
    "import matplotlib.pyplot as plt\n",
    "import os\n",
    "import zfit\n",
    "from zfit import z\n",
    "from scipy.stats import chi2\n",
    "from tqdm.autonotebook import tqdm\n",
    "tqdm.pandas()\n",
    "import multiprocess as mp\n",
    "\n",
    "os.environ['ZFIT_DISABLE_TF_WARNINGS'] = '1'\n",
    "\n",
    "# data = np.load(\"../Data/toy_dataset.csv.npy\")\n",
    "data = np.load(\"./Data/toy_dataset_smaller_peak.npy\")"
   ]
  },
  {
   "cell_type": "code",
   "execution_count": 3,
   "metadata": {},
   "outputs": [],
   "source": [
    "obs = zfit.Space(\"x\", limits=(np.min(data)-1, np.max(data)+1))\n",
    "zfit_data = zfit.Data.from_numpy(obs=obs, array=data[:, 0])\n",
    "\n",
    "\n",
    "n_real = len(data)\n",
    "\n",
    "mass_hypotheses = np.arange(110, 155, 5)  # 110 to 150 GeV in 5 GeV steps\n",
    "\n",
    "n_pseudo = 200\n",
    "\n",
    "def perform_pseudo_experiment(mass, obs, n_real, zfit_data):\n",
    "    # SB model\n",
    "    mean = zfit.Parameter(f\"mean_{mass}\", mass)\n",
    "    sigma = zfit.Parameter(\"sigma\", 2.0, floating=False)  # Fixed detector resolution\n",
    "    signal_model = zfit.pdf.Gauss(mu=mean, sigma=sigma, obs=obs)\n",
    "    lambda_sb = zfit.Parameter(f\"lambda_sb_{mass}\", -0.01, -1.0, 1.0)\n",
    "    exp_bkg_model_sb = zfit.pdf.Exponential(lam=lambda_sb, obs=obs)\n",
    "    frac_signal = zfit.Parameter(f\"frac_signal_{mass}\", 0.5, 0.0, 1.0)\n",
    "    sb_model = zfit.pdf.SumPDF([exp_bkg_model_sb, signal_model], fracs=frac_signal)\n",
    "\n",
    "\n",
    "    pseudo_data = sb_model.sample(n=n_real).numpy()\n",
    "    zfit_pseudo_data = zfit.Data.from_numpy(obs=obs, array=pseudo_data[:, 0])\n",
    "\n",
    "\n",
    "    # Background-only model\n",
    "    lambda_bkg = zfit.Parameter(\"lambda_bkg\", -0.01, -1.0, 1.0)\n",
    "    exp_bkg_model = zfit.pdf.Exponential(lam=lambda_bkg, obs=obs)\n",
    "\n",
    "\n",
    "    ### Fit the models\n",
    "    ## Background\n",
    "    nll_bkg = zfit.loss.UnbinnedNLL(model=exp_bkg_model, data=zfit_pseudo_data)\n",
    "    minimizer_bkg = zfit.minimize.Minuit()\n",
    "    res_bkg = minimizer_bkg.minimize(nll_bkg)\n",
    "    nll_bkg_min = nll_bkg.value().numpy()\n",
    "\n",
    "    ## Signal+Background\n",
    "    nll_sb = zfit.loss.UnbinnedNLL(model=sb_model, data=zfit_pseudo_data)\n",
    "    minimizer_sb = zfit.minimize.Minuit()\n",
    "    res_sb = minimizer_sb.minimize(nll_sb)\n",
    "    nll_sb_min = nll_sb.value().numpy()\n",
    "\n",
    "    t_stat = 2 * (nll_bkg_min - nll_sb_min)\n",
    "    return t_stat\n"
   ]
  },
  {
   "cell_type": "code",
   "execution_count": null,
   "metadata": {},
   "outputs": [
    {
     "name": "stdout",
     "output_type": "stream",
     "text": [
      "mass = 110\n"
     ]
    },
    {
     "data": {
      "application/vnd.jupyter.widget-view+json": {
       "model_id": "43d3bb1d5c2a4be5a45b072cbc7d1406",
       "version_major": 2,
       "version_minor": 0
      },
      "text/plain": [
       "  0%|          | 0/200 [00:00<?, ?it/s]"
      ]
     },
     "metadata": {},
     "output_type": "display_data"
    },
    {
     "name": "stdout",
     "output_type": "stream",
     "text": [
      "mass = 115\n"
     ]
    },
    {
     "data": {
      "application/vnd.jupyter.widget-view+json": {
       "model_id": "27e88eed637844c89e1ad99fe495b1d9",
       "version_major": 2,
       "version_minor": 0
      },
      "text/plain": [
       "  0%|          | 0/200 [00:00<?, ?it/s]"
      ]
     },
     "metadata": {},
     "output_type": "display_data"
    },
    {
     "name": "stdout",
     "output_type": "stream",
     "text": [
      "mass = 120\n"
     ]
    },
    {
     "data": {
      "application/vnd.jupyter.widget-view+json": {
       "model_id": "a02b0eb94537422eb797850c0c1d5169",
       "version_major": 2,
       "version_minor": 0
      },
      "text/plain": [
       "  0%|          | 0/200 [00:00<?, ?it/s]"
      ]
     },
     "metadata": {},
     "output_type": "display_data"
    }
   ],
   "source": [
    "import glob\n",
    "PATH_2_SOL_DATASETS = \"../sol_datasets/\"\n",
    "# Check if the datasets are already generated\n",
    "if glob.glob(PATH_2_SOL_DATASETS + \"2a.csv\"):\n",
    "    print(\"Loading datasets from disk\")\n",
    "    df_b = pd.read_csv(PATH_2_SOL_DATASETS + \"2a.csv\")\n",
    "\n",
    "else:\n",
    "\n",
    "    results = {\"mass\": [], \"test_statistic\": []}\n",
    "    for mass in range(110, 151, 5):\n",
    "        print(f\"mass = {mass}\")\n",
    "        test_statistic = []\n",
    "        for _ in tqdm(range(n_pseudo)):\n",
    "            test_statistic += [perform_pseudo_experiment(mass, obs, n_real, zfit_data)]\n",
    "        test_statistic = np.array(test_statistic)\n",
    "        results[\"mass\"] += [mass]*n_pseudo\n",
    "        results[\"test_statistic\"] += test_statistic.tolist()\n",
    "    df_b = pd.DataFrame(results)\n",
    "    df_b.to_csv(PATH_2_SOL_DATASETS + \"2a.csv\")"
   ]
  },
  {
   "cell_type": "code",
   "execution_count": 10,
   "metadata": {},
   "outputs": [],
   "source": [
    "df_b = pd.DataFrame(results)\n",
    "df_b.to_csv(\"df_b.csv\", index=False)"
   ]
  },
  {
   "cell_type": "code",
   "execution_count": null,
   "metadata": {},
   "outputs": [],
   "source": []
  }
 ],
 "metadata": {
  "kernelspec": {
   "display_name": "envSpectreML",
   "language": "python",
   "name": "python3"
  },
  "language_info": {
   "codemirror_mode": {
    "name": "ipython",
    "version": 3
   },
   "file_extension": ".py",
   "mimetype": "text/x-python",
   "name": "python",
   "nbconvert_exporter": "python",
   "pygments_lexer": "ipython3",
   "version": "3.11.7"
  }
 },
 "nbformat": 4,
 "nbformat_minor": 2
}
