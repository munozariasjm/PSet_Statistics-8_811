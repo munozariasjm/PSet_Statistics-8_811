{
 "cells": [
  {
   "cell_type": "code",
   "execution_count": 2,
   "metadata": {},
   "outputs": [],
   "source": [
    "import pandas as pd\n",
    "import numpy as np\n",
    "import matplotlib.pyplot as plt\n",
    "import os\n",
    "import zfit\n",
    "from zfit import z\n",
    "from scipy.stats import chi2\n",
    "from tqdm.autonotebook import tqdm\n",
    "tqdm.pandas()\n",
    "import multiprocess as mp\n",
    "\n",
    "os.environ['ZFIT_DISABLE_TF_WARNINGS'] = '1'\n",
    "\n",
    "# data = np.load(\"../Data/toy_dataset.csv.npy\")\n",
    "data = np.load(\"./Data/toy_dataset_smaller_peak.npy\")"
   ]
  },
  {
   "cell_type": "code",
   "execution_count": 11,
   "metadata": {},
   "outputs": [],
   "source": [
    "obs = zfit.Space(\"x\", limits=(np.min(data)-1, np.max(data)+1))\n",
    "zfit_data = zfit.Data.from_numpy(obs=obs, array=data[:, 0])\n",
    "\n",
    "\n",
    "n_real = len(data)\n",
    "\n",
    "mass_hypotheses = np.arange(110, 155, 5)  # 110 to 150 GeV in 5 GeV steps\n",
    "\n",
    "n_pseudo = 200\n",
    "\n",
    "def perform_pseudo_experiment_b(mass, obs, n_real, zfit_data):\n",
    "\n",
    "    # SB model\n",
    "    mean = zfit.Parameter(f\"mean_{mass}\", mass, floating=False)  # Fixed mass\n",
    "    sigma = zfit.Parameter(\"sigma\", 2.0, floating=False)  # Fixed detector resolution\n",
    "    signal_model = zfit.pdf.Gauss(mu=mean, sigma=sigma, obs=obs)\n",
    "    lambda_sb = zfit.Parameter(f\"lambda_sb_{mass}\", -0.01, -1.0, 1.0)\n",
    "    exp_bkg_model_sb = zfit.pdf.Exponential(lam=lambda_sb, obs=obs)\n",
    "    frac_signal = zfit.Parameter(f\"frac_signal_{mass}\", 0.5, 0.0, 1.0)\n",
    "    sb_model = zfit.pdf.SumPDF([exp_bkg_model_sb, signal_model], fracs=frac_signal)\n",
    "\n",
    "    # Background-only model\n",
    "    lambda_bkg = zfit.Parameter(\"lambda_bkg\", -0.01, -1.0, 1.0)\n",
    "    exp_bkg_model = zfit.pdf.Exponential(lam=lambda_bkg, obs=obs)\n",
    "\n",
    "\n",
    "    pseudo_data = exp_bkg_model.sample(n=n_real).numpy()\n",
    "    zfit_pseudo_data = zfit.Data.from_numpy(obs=obs, array=pseudo_data[:, 0])\n",
    "\n",
    "\n",
    "    ### Fit the models\n",
    "    ## Background\n",
    "    nll_bkg = zfit.loss.UnbinnedNLL(model=exp_bkg_model, data=zfit_pseudo_data)\n",
    "    minimizer_bkg = zfit.minimize.Minuit()\n",
    "    res_bkg = minimizer_bkg.minimize(nll_bkg)\n",
    "    nll_bkg_min = nll_bkg.value().numpy()\n",
    "\n",
    "    ## Signal+Background\n",
    "    nll_sb = zfit.loss.UnbinnedNLL(model=sb_model, data=zfit_pseudo_data)\n",
    "    minimizer_sb = zfit.minimize.Minuit()\n",
    "    res_sb = minimizer_sb.minimize(nll_sb)\n",
    "    nll_sb_min = nll_sb.value().numpy()\n",
    "\n",
    "    t_stat = 2 * (nll_bkg_min - nll_sb_min)\n",
    "    return t_stat\n"
   ]
  },
  {
   "cell_type": "code",
   "execution_count": null,
   "metadata": {},
   "outputs": [
    {
     "name": "stdout",
     "output_type": "stream",
     "text": [
      "mass = 110\n"
     ]
    },
    {
     "data": {
      "application/vnd.jupyter.widget-view+json": {
       "model_id": "05f88e8b0ab84484a0c56b9a8138b0fc",
       "version_major": 2,
       "version_minor": 0
      },
      "text/plain": [
       "  0%|          | 0/200 [00:00<?, ?it/s]"
      ]
     },
     "metadata": {},
     "output_type": "display_data"
    },
    {
     "name": "stdout",
     "output_type": "stream",
     "text": [
      "mass = 115\n"
     ]
    },
    {
     "data": {
      "application/vnd.jupyter.widget-view+json": {
       "model_id": "bffa40414c02458fbcb5a9864e668c96",
       "version_major": 2,
       "version_minor": 0
      },
      "text/plain": [
       "  0%|          | 0/200 [00:00<?, ?it/s]"
      ]
     },
     "metadata": {},
     "output_type": "display_data"
    },
    {
     "name": "stdout",
     "output_type": "stream",
     "text": [
      "mass = 120\n"
     ]
    },
    {
     "data": {
      "application/vnd.jupyter.widget-view+json": {
       "model_id": "7052a9b941714badb2f18d6a733c73e0",
       "version_major": 2,
       "version_minor": 0
      },
      "text/plain": [
       "  0%|          | 0/200 [00:00<?, ?it/s]"
      ]
     },
     "metadata": {},
     "output_type": "display_data"
    }
   ],
   "source": [
    "results = {\"mass\": [], \"test_statistic\": []}\n",
    "for mass in range(110, 151, 5):\n",
    "    print(f\"mass = {mass}\")\n",
    "    test_statistic = []\n",
    "    for _ in tqdm(range(n_pseudo)):\n",
    "        test_statistic += [perform_pseudo_experiment_b(mass, obs, n_real, zfit_data)]\n",
    "    test_statistic = np.array(test_statistic)\n",
    "    results[\"mass\"] += [mass]*n_pseudo\n",
    "    results[\"test_statistic\"] += test_statistic.tolist()"
   ]
  },
  {
   "cell_type": "code",
   "execution_count": 10,
   "metadata": {},
   "outputs": [],
   "source": [
    "df_b = pd.DataFrame(results)\n",
    "df_b.to_csv(\"df_b.csv\", index=False)"
   ]
  },
  {
   "cell_type": "code",
   "execution_count": null,
   "metadata": {},
   "outputs": [],
   "source": []
  }
 ],
 "metadata": {
  "kernelspec": {
   "display_name": "envSpectreML",
   "language": "python",
   "name": "python3"
  },
  "language_info": {
   "codemirror_mode": {
    "name": "ipython",
    "version": 3
   },
   "file_extension": ".py",
   "mimetype": "text/x-python",
   "name": "python",
   "nbconvert_exporter": "python",
   "pygments_lexer": "ipython3",
   "version": "3.11.7"
  }
 },
 "nbformat": 4,
 "nbformat_minor": 2
}
